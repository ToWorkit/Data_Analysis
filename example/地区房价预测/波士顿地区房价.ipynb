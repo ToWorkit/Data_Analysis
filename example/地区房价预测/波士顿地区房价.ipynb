{
 "cells": [
  {
   "cell_type": "code",
   "execution_count": 1,
   "metadata": {},
   "outputs": [
    {
     "name": "stdout",
     "output_type": "stream",
     "text": [
      "Boston House Prices dataset\n",
      "===========================\n",
      "\n",
      "Notes\n",
      "------\n",
      "Data Set Characteristics:  \n",
      "\n",
      "    :Number of Instances: 506 \n",
      "\n",
      "    :Number of Attributes: 13 numeric/categorical predictive\n",
      "    \n",
      "    :Median Value (attribute 14) is usually the target\n",
      "\n",
      "    :Attribute Information (in order):\n",
      "        - CRIM     per capita crime rate by town\n",
      "        - ZN       proportion of residential land zoned for lots over 25,000 sq.ft.\n",
      "        - INDUS    proportion of non-retail business acres per town\n",
      "        - CHAS     Charles River dummy variable (= 1 if tract bounds river; 0 otherwise)\n",
      "        - NOX      nitric oxides concentration (parts per 10 million)\n",
      "        - RM       average number of rooms per dwelling\n",
      "        - AGE      proportion of owner-occupied units built prior to 1940\n",
      "        - DIS      weighted distances to five Boston employment centres\n",
      "        - RAD      index of accessibility to radial highways\n",
      "        - TAX      full-value property-tax rate per $10,000\n",
      "        - PTRATIO  pupil-teacher ratio by town\n",
      "        - B        1000(Bk - 0.63)^2 where Bk is the proportion of blacks by town\n",
      "        - LSTAT    % lower status of the population\n",
      "        - MEDV     Median value of owner-occupied homes in $1000's\n",
      "\n",
      "    :Missing Attribute Values: None\n",
      "\n",
      "    :Creator: Harrison, D. and Rubinfeld, D.L.\n",
      "\n",
      "This is a copy of UCI ML housing dataset.\n",
      "http://archive.ics.uci.edu/ml/datasets/Housing\n",
      "\n",
      "\n",
      "This dataset was taken from the StatLib library which is maintained at Carnegie Mellon University.\n",
      "\n",
      "The Boston house-price data of Harrison, D. and Rubinfeld, D.L. 'Hedonic\n",
      "prices and the demand for clean air', J. Environ. Economics & Management,\n",
      "vol.5, 81-102, 1978.   Used in Belsley, Kuh & Welsch, 'Regression diagnostics\n",
      "...', Wiley, 1980.   N.B. Various transformations are used in the table on\n",
      "pages 244-261 of the latter.\n",
      "\n",
      "The Boston house-price data has been used in many machine learning papers that address regression\n",
      "problems.   \n",
      "     \n",
      "**References**\n",
      "\n",
      "   - Belsley, Kuh & Welsch, 'Regression diagnostics: Identifying Influential Data and Sources of Collinearity', Wiley, 1980. 244-261.\n",
      "   - Quinlan,R. (1993). Combining Instance-Based and Model-Based Learning. In Proceedings on the Tenth International Conference of Machine Learning, 236-243, University of Massachusetts, Amherst. Morgan Kaufmann.\n",
      "   - many more! (see http://archive.ics.uci.edu/ml/datasets/Housing)\n",
      "\n"
     ]
    }
   ],
   "source": [
    "# 从 sklearn.datasets 导入波士顿房价数据\n",
    "from sklearn.datasets import load_boston\n",
    "# 从读取房价数据存储在变量 boston 中\n",
    "boston = load_boston()\n",
    "# 输出数据描述\n",
    "print(boston.DESCR)"
   ]
  },
  {
   "cell_type": "code",
   "execution_count": 2,
   "metadata": {
    "collapsed": true
   },
   "outputs": [],
   "source": [
    "# 房价数据分割"
   ]
  },
  {
   "cell_type": "code",
   "execution_count": 3,
   "metadata": {
    "collapsed": true
   },
   "outputs": [],
   "source": [
    "# 导入数据分割器\n",
    "from sklearn.cross_validation import train_test_split\n",
    "# 导入 numpy \n",
    "import numpy as np\n",
    "\n",
    "x = boston.data\n",
    "y = boston.target"
   ]
  },
  {
   "cell_type": "code",
   "execution_count": 4,
   "metadata": {
    "collapsed": true
   },
   "outputs": [],
   "source": [
    "# 随机采样 25% 的数据构建测试样本，其余作为训练样本\n",
    "x_train, x_test, y_train, y_test = train_test_split(x, y, random_state = 33, test_size = 0.25)"
   ]
  },
  {
   "cell_type": "code",
   "execution_count": 5,
   "metadata": {},
   "outputs": [
    {
     "name": "stdout",
     "output_type": "stream",
     "text": [
      "The max target value is  50.0\n",
      "The min target value is  5.0\n",
      "The average target value is  22.5328063241\n"
     ]
    }
   ],
   "source": [
    "# 分析回归目标值的差异\n",
    "print(\"The max target value is \", np.max(boston.target))\n",
    "print(\"The min target value is \", np.min(boston.target))\n",
    "print(\"The average target value is \", np.mean(boston.target))"
   ]
  },
  {
   "cell_type": "code",
   "execution_count": 6,
   "metadata": {
    "collapsed": true
   },
   "outputs": [],
   "source": [
    "# 目标房价之间的差异较大，需要对特殊以及目标值进行标准化处理"
   ]
  },
  {
   "cell_type": "code",
   "execution_count": 12,
   "metadata": {},
   "outputs": [
    {
     "name": "stderr",
     "output_type": "stream",
     "text": [
      "C:\\ProgramData\\Anaconda3\\lib\\site-packages\\sklearn\\preprocessing\\data.py:586: DeprecationWarning: Passing 1d arrays as data is deprecated in 0.17 and will raise ValueError in 0.19. Reshape your data either using X.reshape(-1, 1) if your data has a single feature or X.reshape(1, -1) if it contains a single sample.\n",
      "  warnings.warn(DEPRECATION_MSG_1D, DeprecationWarning)\n",
      "C:\\ProgramData\\Anaconda3\\lib\\site-packages\\sklearn\\preprocessing\\data.py:649: DeprecationWarning: Passing 1d arrays as data is deprecated in 0.17 and will raise ValueError in 0.19. Reshape your data either using X.reshape(-1, 1) if your data has a single feature or X.reshape(1, -1) if it contains a single sample.\n",
      "  warnings.warn(DEPRECATION_MSG_1D, DeprecationWarning)\n",
      "C:\\ProgramData\\Anaconda3\\lib\\site-packages\\sklearn\\preprocessing\\data.py:649: DeprecationWarning: Passing 1d arrays as data is deprecated in 0.17 and will raise ValueError in 0.19. Reshape your data either using X.reshape(-1, 1) if your data has a single feature or X.reshape(1, -1) if it contains a single sample.\n",
      "  warnings.warn(DEPRECATION_MSG_1D, DeprecationWarning)\n"
     ]
    }
   ],
   "source": [
    "# 导入数据标准化模块\n",
    "from sklearn.preprocessing import StandardScaler\n",
    "# 分别初始化对特征和目标值得标准化器\n",
    "ss_x = StandardScaler()\n",
    "ss_y = StandardScaler()\n",
    "# 分别对训练和测试数据的特征以及目标值进行标准化处理\n",
    "x_train = ss_x.fit_transform(x_train)\n",
    "x_test = ss_x.transform(x_test)\n",
    "y_train = ss_y.fit_transform(y_train)\n",
    "y_test = ss_y.transform(y_test)"
   ]
  },
  {
   "cell_type": "code",
   "execution_count": 13,
   "metadata": {
    "collapsed": true
   },
   "outputs": [],
   "source": [
    "# 使用线性回归模型 LinearRegression 和 SGDRegressor 分别对房价进行预测"
   ]
  },
  {
   "cell_type": "code",
   "execution_count": 14,
   "metadata": {
    "collapsed": true
   },
   "outputs": [],
   "source": [
    "# 导入 LinearRegression\n",
    "from sklearn.linear_model import LinearRegression\n",
    "# 使用默认配置初始化线性回归器 LinearRegression\n",
    "lr = LinearRegression()\n",
    "# 使用训练数据进行参数估计\n",
    "lr.fit(x_train, y_train)\n",
    "# 对测试数据进行回归预测\n",
    "lr_y_predict = lr.predict(x_test)"
   ]
  },
  {
   "cell_type": "code",
   "execution_count": 15,
   "metadata": {
    "collapsed": true
   },
   "outputs": [],
   "source": [
    "# 导入 SGDRegressor\n",
    "from sklearn.linear_model import SGDRegressor\n",
    "# 使用默认配置初始化线性回归器 SGDRegressor\n",
    "sgdr = SGDRegressor()\n",
    "# 使用训练数据进行参数估计\n",
    "sgdr.fit(x_train, y_train)\n",
    "# 对测试数据进行回归预测\n",
    "sgdr_y_predict = sgdr.predict(x_test)"
   ]
  },
  {
   "cell_type": "code",
   "execution_count": 16,
   "metadata": {
    "collapsed": true
   },
   "outputs": [],
   "source": [
    "# 衡量预测值与真实值之间的差距，可以通过多种测评函数进行评价，最为直观的评价指标包括，\n",
    "# 平均绝对误差以及均方误差，这同样也是线性回归模型所要优化的目标"
   ]
  },
  {
   "cell_type": "code",
   "execution_count": 17,
   "metadata": {
    "collapsed": true
   },
   "outputs": [],
   "source": [
    "# 使用三种回归评价机制以及两种调用 R-squared 评价模块的方法，对模型的回归性能做出评价"
   ]
  },
  {
   "cell_type": "code",
   "execution_count": 18,
   "metadata": {},
   "outputs": [
    {
     "name": "stdout",
     "output_type": "stream",
     "text": [
      "The value of default measurement of LinearRegression is  -9992.64929904\n"
     ]
    }
   ],
   "source": [
    "# 使用 LinearRegression 模型自带的评估模块，并输出评估结果\n",
    "print('The value of default measurement of LinearRegression is ', lr.score(x_test, y_test))"
   ]
  },
  {
   "cell_type": "code",
   "execution_count": 21,
   "metadata": {},
   "outputs": [
    {
     "name": "stdout",
     "output_type": "stream",
     "text": [
      "The value of R-squared of LinearRegression is  -9992.64929904\n",
      "The mean squared error of LinearRegression is  774920.504052\n"
     ]
    }
   ],
   "source": [
    "# 从 sklearn.metrics 依次导入 r2_score, mean_squared_error 以及 mean_absoluate_erroe 用于回归性能的评估\n",
    "from sklearn.metrics import r2_score, mean_squared_error, mean_absolute_error\n",
    "# 使用 r2_score 模块，并输出评估结果\n",
    "print('The value of R-squared of LinearRegression is ', r2_score(y_test, lr_y_predict))\n",
    "# 使用 mean_squared_error 模块，并输出评估结果\n",
    "print('The mean squared error of LinearRegression is ', mean_squared_error(ss_y.inverse_transform(y_test), ss_y.inverse_transform(lr_y_predict)))"
   ]
  },
  {
   "cell_type": "code",
   "execution_count": 22,
   "metadata": {
    "collapsed": true
   },
   "outputs": [],
   "source": [
    "# 使用三种不同核函数配置的支持向量机回归模型进行训练，并且分别对测试数据做出预测"
   ]
  },
  {
   "cell_type": "code",
   "execution_count": 23,
   "metadata": {
    "collapsed": true
   },
   "outputs": [],
   "source": [
    "# 从 sklearn.svm 中导入支持向量机(回归)模型\n",
    "from sklearn.svm import SVR\n",
    "# 使用线性核函数配置的支持向量机进行回归训练，并且对测试样本进行预测\n",
    "linear_svr = SVR(kernel = 'linear')\n",
    "linear_svr.fit(x_train, y_train)\n",
    "linear_svr_y_predict = linear_svr.predict(x_test)"
   ]
  },
  {
   "cell_type": "code",
   "execution_count": 24,
   "metadata": {
    "collapsed": true
   },
   "outputs": [],
   "source": [
    "# 使用多项式核函数配置的支持向量机进行回归训练，并且对测试样本进行预测\n",
    "poly_svr = SVR(kernel = 'poly')\n",
    "poly_svr.fit(x_train, y_train)\n",
    "poly_svr_y_predict = poly_svr.predict(x_test)"
   ]
  },
  {
   "cell_type": "code",
   "execution_count": 25,
   "metadata": {
    "collapsed": true
   },
   "outputs": [],
   "source": [
    "# 使用径向基核函数配置的支持向量机进行回归训练，并对测试样本进行预测\n",
    "rbf_svr = SVR(kernel = 'rbf')\n",
    "rbf_svr.fit(x_train, y_train)\n",
    "rbf_svr_y_predict = rbf_svr.predict(x_test)"
   ]
  },
  {
   "cell_type": "code",
   "execution_count": 26,
   "metadata": {
    "collapsed": true
   },
   "outputs": [],
   "source": [
    "# 对相同测试集上的不同核函数做性能评估"
   ]
  },
  {
   "cell_type": "code",
   "execution_count": 27,
   "metadata": {
    "collapsed": true
   },
   "outputs": [],
   "source": [
    "# p72(86/198)"
   ]
  },
  {
   "cell_type": "code",
   "execution_count": 28,
   "metadata": {
    "collapsed": true
   },
   "outputs": [],
   "source": [
    "# K 近邻(回归)对房价数据进行回归预测"
   ]
  },
  {
   "cell_type": "code",
   "execution_count": 29,
   "metadata": {
    "collapsed": true
   },
   "outputs": [],
   "source": [
    "# 导入 K 近邻回归器\n",
    "from sklearn.neighbors import KNeighborsRegressor"
   ]
  },
  {
   "cell_type": "code",
   "execution_count": 30,
   "metadata": {
    "collapsed": true
   },
   "outputs": [],
   "source": [
    "# 初始化 K近邻回归器，并且调整配置，使得预测的方式为平均回归 (weights = 'uniform')\n",
    "uni_knr = KNeighborsRegressor(weights = 'uniform')\n",
    "uni_knr.fit(x_train, y_train)\n",
    "uni_knr_y_predict = uni_knr.predict(x_test)"
   ]
  },
  {
   "cell_type": "code",
   "execution_count": 31,
   "metadata": {
    "collapsed": true
   },
   "outputs": [],
   "source": [
    "# 初始化 K 近邻回归器，并且调整配置，使得预测的方式为根据距离加权回归(weights = 'distance')"
   ]
  },
  {
   "cell_type": "code",
   "execution_count": 32,
   "metadata": {
    "collapsed": true
   },
   "outputs": [],
   "source": [
    "dis_knr = KNeighborsRegressor(weights = 'distance')\n",
    "dis_knr.fit(x_train, y_train)\n",
    "dis_knr_y_predict = dis_knr.predict(x_test)"
   ]
  },
  {
   "cell_type": "code",
   "execution_count": null,
   "metadata": {
    "collapsed": true
   },
   "outputs": [],
   "source": [
    "# 性能评估 p75(89/198)"
   ]
  }
 ],
 "metadata": {
  "kernelspec": {
   "display_name": "Python 3",
   "language": "python",
   "name": "python3"
  },
  "language_info": {
   "codemirror_mode": {
    "name": "ipython",
    "version": 3
   },
   "file_extension": ".py",
   "mimetype": "text/x-python",
   "name": "python",
   "nbconvert_exporter": "python",
   "pygments_lexer": "ipython3",
   "version": "3.6.1"
  }
 },
 "nbformat": 4,
 "nbformat_minor": 2
}
