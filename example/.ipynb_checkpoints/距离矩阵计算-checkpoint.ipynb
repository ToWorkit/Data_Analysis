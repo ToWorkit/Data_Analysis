{
 "cells": [
  {
   "cell_type": "markdown",
   "metadata": {},
   "source": [
    "![矩阵计算](http://opjak8eox.bkt.clouddn.com/%E8%B7%9D%E7%A6%BB%E7%9F%A9%E9%98%B5%E8%AE%A1%E7%AE%97.png)"
   ]
  },
  {
   "cell_type": "code",
   "execution_count": 2,
   "metadata": {
    "collapsed": true
   },
   "outputs": [],
   "source": [
    "# 求 (x[0][i] - x[0][j]) ^ 2 + (x[1][i] - x[1][j]) ^ 2 + ...+(x[n][i] - x[n][j]) ^ 2\n",
    "# 对称矩阵 Dij = Dji"
   ]
  },
  {
   "cell_type": "code",
   "execution_count": 1,
   "metadata": {},
   "outputs": [
    {
     "name": "stdout",
     "output_type": "stream",
     "text": [
      "2 500\n",
      "1.4078984260559082\n",
      "0.5299370288848877\n",
      "0.24317145347595215\n",
      "0.00600433349609375\n",
      "[[     0      2      8 ..., 494018 496008 498002]\n",
      " [     2      0      2 ..., 492032 494018 496008]\n",
      " [     8      2      0 ..., 490050 492032 494018]\n",
      " ..., \n",
      " [494018 492032 490050 ...,      0      2      8]\n",
      " [496008 494018 492032 ...,      2      0      2]\n",
      " [498002 496008 494018 ...,      8      2      0]]\n"
     ]
    }
   ],
   "source": [
    "import numpy as np\n",
    "import numpy.linalg as la\n",
    "import time\n",
    "\n",
    "X = np.array([range(0, 500), range(500, 1000)])\n",
    "# 两个维度\n",
    "# 行，列\n",
    "m, n = X.shape\n",
    "print(m, n)\n",
    "# print(X)\n",
    "\n",
    "'''\n",
    "算法一\n",
    "'''\n",
    "t = time.time()\n",
    "# 全零\n",
    "D = np.zeros([n, n])\n",
    "for i in range(n):\n",
    "    # i + 1 是因为 0 不需要参与运算，所以绕过它\n",
    "    for j in range(i + 1, n):\n",
    "        # 第 i 列，第 j 列\n",
    "        # http://blog.csdn.net/lanchunhui/article/details/51004387\n",
    "        # norm -> 范数\n",
    "        D[i, j] = la.norm(X[:, i] - X[:, j]) ** 2\n",
    "        D[j, i] = D[i, j]\n",
    "print(time.time() - t)\n",
    "\n",
    "'''\n",
    "算法二\n",
    "'''\n",
    "t = time.time()\n",
    "# 全零\n",
    "D = np.zeros([n, n])\n",
    "for i in range(n):\n",
    "    # i + 1 是因为 0 不需要参与运算，所以绕过它\n",
    "    for j in range(i + 1, n):\n",
    "        # 第 i 列，第 j 列\n",
    "        d = X[:, i] - X[:, j]\n",
    "        # 矩阵相乘\n",
    "        D[i, j] = np.dot(d, d)\n",
    "        D[j, i] = D[i, j]\n",
    "print(time.time() - t)\n",
    "# print(np.dot([[1,2], [3, 4]], [[5,6], [7,8]]))\n",
    "\n",
    "'''\n",
    "算法三\n",
    "'''\n",
    "t = time.time()\n",
    "# T -> 转置\n",
    "G = np.dot(X.T, X)\n",
    "# Gij = dot(X[i], X[j])\n",
    "# 全零\n",
    "D = np.zeros([n, n])\n",
    "for i in range(n):\n",
    "    # i + 1 是因为 0 不需要参与运算，所以绕过它\n",
    "    for j in range(i + 1, n):\n",
    "        D[i, j] = G[i, i] - G[i, j] * 2 + G[j, j]\n",
    "        D[j, i] = D[i, j]\n",
    "print(time.time() - t)\n",
    "\n",
    "'''\n",
    "算法四\n",
    "'''\n",
    "t = time.time()\n",
    "# T -> 转置\n",
    "# G = dot(X.T, X)\n",
    "# G[i][i] = dot(X[i], X[i])\n",
    "G = np.dot(X.T, X)\n",
    "# diag -> 取对角线元素\n",
    "# G[0][0], G[1][1], ..., G[n - 1][n - 1]\n",
    "# tile -> 复制\n",
    "H = np.tile(np.diag(G), (n, 1))\n",
    "D = H + H.T - G * 2\n",
    "print(time.time() - t)\n",
    "print(D)"
   ]
  },
  {
   "cell_type": "code",
   "execution_count": null,
   "metadata": {
    "collapsed": true
   },
   "outputs": [],
   "source": []
  }
 ],
 "metadata": {
  "kernelspec": {
   "display_name": "Python 3",
   "language": "python",
   "name": "python3"
  },
  "language_info": {
   "codemirror_mode": {
    "name": "ipython",
    "version": 3
   },
   "file_extension": ".py",
   "mimetype": "text/x-python",
   "name": "python",
   "nbconvert_exporter": "python",
   "pygments_lexer": "ipython3",
   "version": "3.6.1"
  }
 },
 "nbformat": 4,
 "nbformat_minor": 2
}
