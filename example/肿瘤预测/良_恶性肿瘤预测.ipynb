{
 "cells": [
  {
   "cell_type": "code",
   "execution_count": 1,
   "metadata": {
    "collapsed": true
   },
   "outputs": [],
   "source": [
    "# 数据集在百度云上的DataSets目录下"
   ]
  },
  {
   "cell_type": "code",
   "execution_count": 2,
   "metadata": {
    "collapsed": true
   },
   "outputs": [],
   "source": [
    "import pandas as pd"
   ]
  },
  {
   "cell_type": "code",
   "execution_count": 63,
   "metadata": {},
   "outputs": [
    {
     "name": "stdout",
     "output_type": "stream",
     "text": [
      "     Unnamed: 0  Clump Thickness  Cell Size  Type\n",
      "0           163                1          1     0\n",
      "1           286               10         10     1\n",
      "2           612               10         10     1\n",
      "3           517                1          1     0\n",
      "4           464                1          1     0\n",
      "5           277                1          1     0\n",
      "6           408                3          2     0\n",
      "7           104               10         10     1\n",
      "8           114                3          2     0\n",
      "9           627                1          1     0\n",
      "10          545                1          1     0\n",
      "11          467                6          6     1\n",
      "12           92                1          1     0\n",
      "13            7                1          2     0\n",
      "14           89                1          1     0\n",
      "15          528                1          3     0\n",
      "16          380                1          1     0\n",
      "17          521                1          1     0\n",
      "18          539                1          1     0\n",
      "19          363                4          4     0\n",
      "20          638                1          1     0\n",
      "21          140                1          1     0\n",
      "22           28                1          1     0\n",
      "23           43                6          5     1\n",
      "24           42               10         10     1\n",
      "25           73                4          5     1\n",
      "26          167                8         10     1\n",
      "27          210               10         10     1\n",
      "28          610                4          3     1\n",
      "29           66                1          1     0\n",
      "..          ...              ...        ...   ...\n",
      "494         252                3          3     0\n",
      "495          21                5          5     1\n",
      "496         313                1          1     0\n",
      "497         459                1          3     0\n",
      "498         160                7          7     1\n",
      "499         276                1          1     0\n",
      "500         191                5         10     1\n",
      "501         385                3          2     0\n",
      "502         413                1          2     0\n",
      "503         491                8          9     1\n",
      "504         343                1          1     0\n",
      "505         308                8          7     1\n",
      "506         661                1          1     0\n",
      "507         130                1          3     0\n",
      "508         663                1          3     0\n",
      "509          99                5          6     1\n",
      "510         372                1          2     0\n",
      "511          87                6          6     1\n",
      "512         458                1          2     0\n",
      "513         330                4          7     1\n",
      "514         214               10         10     1\n",
      "515         466                6          6     1\n",
      "516         121                2          1     0\n",
      "517         614                1          1     0\n",
      "518          20                3          2     1\n",
      "519          71               10          2     1\n",
      "520         106               10         10     1\n",
      "521         270                4          7     1\n",
      "522         435                8         10     1\n",
      "523         102                1          2     0\n",
      "\n",
      "[524 rows x 4 columns]\n"
     ]
    }
   ],
   "source": [
    "# 测试集和训练集是相互排斥的\n",
    "# 调用read_csv函数，读取 训练数据 并存到df_train中\n",
    "df_train = pd.read_csv('../../../Datasets/Breast-Cancer/breast-cancer-train.csv')\n",
    "print(df_train)\n",
    "# 获取测试数据并存到df_test中\n",
    "df_test = pd.read_csv('../../../Datasets/Breast-Cancer/breast-cancer-test.csv')\n",
    "# print(df_test)"
   ]
  },
  {
   "cell_type": "code",
   "execution_count": 20,
   "metadata": {},
   "outputs": [
    {
     "name": "stdout",
     "output_type": "stream",
     "text": [
      "     Clump Thickness  Cell Size\n",
      "0                  1          2\n",
      "1                  1          1\n",
      "2                  1          1\n",
      "4                  1          1\n",
      "5                  1          1\n",
      "6                  3          2\n",
      "10                 1          1\n",
      "12                 1          1\n",
      "13                 1          1\n",
      "14                 1          1\n",
      "16                 1          1\n",
      "21                 1          1\n",
      "23                 1          1\n",
      "25                 1          1\n",
      "26                 1          1\n",
      "28                 1          1\n",
      "30                 1          1\n",
      "31                 1          1\n",
      "32                 1          1\n",
      "34                 1          1\n",
      "35                 1          1\n",
      "36                 1          1\n",
      "38                 1          1\n",
      "40                 1          1\n",
      "41                 3          3\n",
      "43                 1          1\n",
      "44                 1          1\n",
      "45                 1          1\n",
      "46                 2          2\n",
      "47                 4          5\n",
      "..               ...        ...\n",
      "130                1          1\n",
      "131                1          1\n",
      "133                1          1\n",
      "135                1          1\n",
      "137                1          1\n",
      "138                1          1\n",
      "139                3          1\n",
      "140                2          1\n",
      "142                1          1\n",
      "143                1          1\n",
      "144                1          3\n",
      "146                2          2\n",
      "148                1          4\n",
      "150                2          2\n",
      "152                3          1\n",
      "154                1          1\n",
      "156                1          1\n",
      "157                1          3\n",
      "158                1          1\n",
      "159                1          1\n",
      "160                1          1\n",
      "162                1          1\n",
      "163                3          4\n",
      "164                1          1\n",
      "165                1          1\n",
      "167                1          1\n",
      "169                2          2\n",
      "170                1          1\n",
      "171                1          1\n",
      "174                1          1\n",
      "\n",
      "[118 rows x 2 columns]\n"
     ]
    }
   ],
   "source": [
    "# 选取‘Clump Thickness(肿块厚度)’和‘Cell Size(细胞尺寸)’作为特征，构建 测试集 中的正负分类样本\n",
    "df_test_negative = df_test.loc[df_test['Type'] == 0][['Clump Thickness', 'Cell Size']]\n",
    "df_test_positive = df_test.loc[df_test['Type'] == 1][['Clump Thickness', 'Cell Size']]\n",
    "# print(df_test_negative)"
   ]
  },
  {
   "cell_type": "code",
   "execution_count": 21,
   "metadata": {
    "collapsed": true
   },
   "outputs": [],
   "source": [
    "# 导入matplotlib工具包中的pyplot画图\n",
    "import matplotlib.pyplot as plt"
   ]
  },
  {
   "cell_type": "code",
   "execution_count": 22,
   "metadata": {},
   "outputs": [
    {
     "data": {
      "image/png": "[encoded data removed]",
      "text/plain": [
       "<matplotlib.figure.Figure at 0x99e1160>"
      ]
     },
     "metadata": {},
     "output_type": "display_data"
    }
   ],
   "source": [
    "# 绘制良性肿瘤样本点，标记为红色的o\n",
    "plt.scatter(df_test_negative['Clump Thickness'], df_test_negative['Cell Size'], marker = 'o', s = 200, c = 'red')\n",
    "# 绘制恶性肿瘤样本点，标记为黑色的x\n",
    "plt.scatter(df_test_positive['Clump Thickness'], df_test_positive['Cell Size'], marker = 'x', s = 150, c = 'black')\n",
    "# 绘制 x, y 轴的说明\n",
    "plt.xlabel('Clump Thickness')\n",
    "plt.ylabel('Cell Size')\n",
    "# 显示\n",
    "plt.show()"
   ]
  },
  {
   "cell_type": "code",
   "execution_count": 23,
   "metadata": {
    "collapsed": true
   },
   "outputs": [],
   "source": [
    "# 导入numpy 工具包\n",
    "import numpy as np"
   ]
  },
  {
   "cell_type": "code",
   "execution_count": 29,
   "metadata": {},
   "outputs": [
    {
     "name": "stdout",
     "output_type": "stream",
     "text": [
      "[ 0.87207417]\n",
      "[ 0.0585905   0.82067718]\n",
      "[ 0  1  2  3  4  5  6  7  8  9 10 11]\n",
      "[-1.06262754 -1.13402041 -1.20541329 -1.27680616 -1.34819903 -1.41959191\n",
      " -1.49098478 -1.56237765 -1.63377053 -1.7051634  -1.77655627 -1.84794915]\n"
     ]
    }
   ],
   "source": [
    "# 利用numpy中的random函数随机采样直线的截距(intercept)和系数(coef)\n",
    "intercept = np.random.random([1])\n",
    "coef = np.random.random([2])\n",
    "lx = np.arange(0, 12)\n",
    "ly = (-intercept - lx * coef[0]) / coef[1]\n",
    "print(intercept)\n",
    "print(coef)\n",
    "print(lx)\n",
    "print(ly)"
   ]
  },
  {
   "cell_type": "code",
   "execution_count": 31,
   "metadata": {},
   "outputs": [
    {
     "data": {
      "image/png": "[encoded data removed]",
      "text/plain": [
       "<matplotlib.figure.Figure at 0x9e7dc50>"
      ]
     },
     "metadata": {},
     "output_type": "display_data"
    }
   ],
   "source": [
    "# 随机初始化一个二分类器，使用一条直线来划分良/恶性肿瘤，直线的斜率和截距决定了直线的走向，统称为模型的参数，\n",
    "# 也是分类器需要通过学习从训练数据中得到的。\n",
    "# 最初，随机初始化参数的分类器的性能表现就是下图\n",
    "\n",
    "# 绘制一条随机直线\n",
    "plt.plot(lx, ly, c = 'yellow')\n",
    "# 良性 红色 o\n",
    "plt.scatter(df_test_negative['Clump Thickness'], df_test_negative['Cell Size'], marker = 'o', s = 200, c = 'red')\n",
    "# 恶性 黑色 x\n",
    "plt.scatter(df_test_positive['Clump Thickness'], df_test_positive['Cell Size'], marker = 'x', s = 150, c = 'black')\n",
    "# x, y\n",
    "plt.xlabel('Clump Thickness')\n",
    "plt.ylabel('Cell Size')\n",
    "plt.show()"
   ]
  },
  {
   "cell_type": "code",
   "execution_count": 32,
   "metadata": {
    "collapsed": true
   },
   "outputs": [],
   "source": [
    "# 随着使用一定量的训练样本，分类器所表现的性能大幅度提升\n",
    "# 导入 sklearn 中的逻辑斯蒂回归分类器\n",
    "from sklearn.linear_model import LogisticRegression\n",
    "lr = LogisticRegression()"
   ]
  },
  {
   "cell_type": "code",
   "execution_count": 59,
   "metadata": {},
   "outputs": [
    {
     "name": "stdout",
     "output_type": "stream",
     "text": [
      "Testing accuracy (10 training samples):  0.868571428571\n"
     ]
    }
   ],
   "source": [
    "# 使用前 10 条训练样本学习直线的系数和截距\n",
    "lr.fit(df_train[['Clump Thickness', 'Cell Size']][:10], df_train['Type'][:10])\n",
    "# score 检验 => 训练之后的准确率\n",
    "print('Testing accuracy (10 training samples): ', lr.score(df_test[['Clump Thickness', 'Cell Size']], df_test['Type']))"
   ]
  },
  {
   "cell_type": "code",
   "execution_count": 60,
   "metadata": {},
   "outputs": [
    {
     "name": "stdout",
     "output_type": "stream",
     "text": [
      "[-1.51522787]\n",
      "[-0.10721332  0.48314152]\n"
     ]
    }
   ],
   "source": [
    "intercept = lr.intercept_\n",
    "coef = lr.coef_[0, :]\n",
    "print(intercept)\n",
    "print(coef)"
   ]
  },
  {
   "cell_type": "code",
   "execution_count": 61,
   "metadata": {},
   "outputs": [
    {
     "name": "stdout",
     "output_type": "stream",
     "text": [
      "[ 3.1361988   3.35810752  3.58001624  3.80192495  4.02383367  4.24574239\n",
      "  4.4676511   4.68955982  4.91146854  5.13337725  5.35528597  5.57719469]\n"
     ]
    }
   ],
   "source": [
    "# 分类面应该是lx * coef[0] + ly * coef[1] + intercept = 0, 映射到 二维 平面之后就是\n",
    "ly = (-intercept - lx * coef[0]) / coef[1]\n",
    "print(ly)"
   ]
  },
  {
   "cell_type": "code",
   "execution_count": 62,
   "metadata": {},
   "outputs": [
    {
     "data": {
      "image/png": "[encoded data removed]",
      "text/plain": [
       "<matplotlib.figure.Figure at 0xc0a4a20>"
      ]
     },
     "metadata": {},
     "output_type": "display_data"
    }
   ],
   "source": [
    "# 训练\n",
    "plt.plot(lx, ly, c = 'green')\n",
    "plt.scatter(df_test_negative['Clump Thickness'], df_test_negative['Cell Size'], marker = 'o', s = 200, c = 'red')\n",
    "plt.scatter(df_test_positive['Clump Thickness'], df_test_positive['Cell Size'], marker = 'x', s = 150, c = 'black')\n",
    "plt.xlabel('Clump Thickness')\n",
    "plt.ylabel('Cell Size')\n",
    "plt.show()"
   ]
  },
  {
   "cell_type": "code",
   "execution_count": 47,
   "metadata": {},
   "outputs": [
    {
     "name": "stdout",
     "output_type": "stream",
     "text": [
      "Testing accuracy (all training samples):  0.937142857143\n"
     ]
    }
   ],
   "source": [
    "# 使用所有训练样本学习直线的系数和截距\n",
    "lr.fit(df_train[['Clump Thickness', 'Cell Size']], df_train['Type'])\n",
    "# 训练完所有的准确率\n",
    "print('Testing accuracy (all training samples): ', lr.score(df_test[['Clump Thickness', 'Cell Size']], df_test['Type']))"
   ]
  },
  {
   "cell_type": "code",
   "execution_count": 57,
   "metadata": {},
   "outputs": [
    {
     "name": "stdout",
     "output_type": "stream",
     "text": [
      "[-4.67611309]\n",
      "[ 0.59071861  0.7498354 ]\n",
      "[ 6.23618609  5.44838838  4.66059067  3.87279296  3.08499525  2.29719754\n",
      "  1.50939984  0.72160213 -0.06619558 -0.85399329 -1.641791   -2.42958871]\n"
     ]
    }
   ],
   "source": [
    "intercept = lr.intercept_\n",
    "coef = lr.coef_[0, :]\n",
    "ly = (-intercept - lx * coef[0]) / coef[1]\n",
    "print(intercept)\n",
    "print(coef)\n",
    "print(ly)"
   ]
  },
  {
   "cell_type": "code",
   "execution_count": 58,
   "metadata": {},
   "outputs": [
    {
     "data": {
      "image/png": "[encoded data removed]",
      "text/plain": [
       "<matplotlib.figure.Figure at 0xbeddcf8>"
      ]
     },
     "metadata": {},
     "output_type": "display_data"
    }
   ],
   "source": [
    "# 绘制训练完所有数据的图\n",
    "plt.plot(lx, ly, c = 'blue')\n",
    "plt.scatter(df_test_negative['Clump Thickness'], df_test_negative['Cell Size'], marker = 'o', s = 200, c = 'red')\n",
    "plt.scatter(df_test_positive['Clump Thickness'], df_test_positive['Cell Size'], marker = 'x', s = 150, c = 'black')\n",
    "plt.xlabel('Clump Thickness')\n",
    "plt.ylabel('Cell Size')\n",
    "plt.show()"
   ]
  },
  {
   "cell_type": "code",
   "execution_count": null,
   "metadata": {
    "collapsed": true
   },
   "outputs": [],
   "source": []
  }
 ],
 "metadata": {
  "kernelspec": {
   "display_name": "Python 3",
   "language": "python",
   "name": "python3"
  },
  "language_info": {
   "codemirror_mode": {
    "name": "ipython",
    "version": 3
   },
   "file_extension": ".py",
   "mimetype": "text/x-python",
   "name": "python",
   "nbconvert_exporter": "python",
   "pygments_lexer": "ipython3",
   "version": "3.6.1"
  }
 },
 "nbformat": 4,
 "nbformat_minor": 2
}
