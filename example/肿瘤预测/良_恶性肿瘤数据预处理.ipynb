{
 "cells": [
  {
   "cell_type": "code",
   "execution_count": 3,
   "metadata": {
    "collapsed": true
   },
   "outputs": [],
   "source": [
    "# 导入pandas与numpy工具包\n",
    "import pandas as pd\n",
    "import numpy as np"
   ]
  },
  {
   "cell_type": "code",
   "execution_count": 4,
   "metadata": {
    "collapsed": true
   },
   "outputs": [],
   "source": [
    "# 创建特征列表\n",
    "column_names = ['Sample code number', 'Clump Thickness', 'Uniformity of Cell Size', 'Uniformity of Cell Shape',\n",
    "                'Marginal Adhesion', 'Single Epithelial Cell Size', 'Bare Nuclei', 'Bland Chromatin', 'Normal Nucleoli',\n",
    "               'Mitoses', 'Class']"
   ]
  },
  {
   "cell_type": "code",
   "execution_count": 5,
   "metadata": {
    "collapsed": true
   },
   "outputs": [],
   "source": [
    "# 使用 pandas.read_csv 函数从互联网读取指定数据\n",
    "data = pd.read_csv('https://archive.ics.uci.edu/ml/machine-learning-databases/breast-cancer-wisconsin/breast-cancer-wisconsin.data',\n",
    "                   names = column_names)"
   ]
  },
  {
   "cell_type": "code",
   "execution_count": 6,
   "metadata": {},
   "outputs": [
    {
     "name": "stdout",
     "output_type": "stream",
     "text": [
      "     Sample code number  Clump Thickness  Uniformity of Cell Size  \\\n",
      "0               1000025                5                        1   \n",
      "1               1002945                5                        4   \n",
      "2               1015425                3                        1   \n",
      "3               1016277                6                        8   \n",
      "4               1017023                4                        1   \n",
      "5               1017122                8                       10   \n",
      "6               1018099                1                        1   \n",
      "7               1018561                2                        1   \n",
      "8               1033078                2                        1   \n",
      "9               1033078                4                        2   \n",
      "10              1035283                1                        1   \n",
      "11              1036172                2                        1   \n",
      "12              1041801                5                        3   \n",
      "13              1043999                1                        1   \n",
      "14              1044572                8                        7   \n",
      "15              1047630                7                        4   \n",
      "16              1048672                4                        1   \n",
      "17              1049815                4                        1   \n",
      "18              1050670               10                        7   \n",
      "19              1050718                6                        1   \n",
      "20              1054590                7                        3   \n",
      "21              1054593               10                        5   \n",
      "22              1056784                3                        1   \n",
      "24              1059552                1                        1   \n",
      "25              1065726                5                        2   \n",
      "26              1066373                3                        2   \n",
      "27              1066979                5                        1   \n",
      "28              1067444                2                        1   \n",
      "29              1070935                1                        1   \n",
      "30              1070935                3                        1   \n",
      "..                  ...              ...                      ...   \n",
      "669             1350423                5                       10   \n",
      "670             1352848                3                       10   \n",
      "671             1353092                3                        2   \n",
      "672             1354840                2                        1   \n",
      "673             1354840                5                        3   \n",
      "674             1355260                1                        1   \n",
      "675             1365075                4                        1   \n",
      "676             1365328                1                        1   \n",
      "677             1368267                5                        1   \n",
      "678             1368273                1                        1   \n",
      "679             1368882                2                        1   \n",
      "680             1369821               10                       10   \n",
      "681             1371026                5                       10   \n",
      "682             1371920                5                        1   \n",
      "683              466906                1                        1   \n",
      "684              466906                1                        1   \n",
      "685              534555                1                        1   \n",
      "686              536708                1                        1   \n",
      "687              566346                3                        1   \n",
      "688              603148                4                        1   \n",
      "689              654546                1                        1   \n",
      "690              654546                1                        1   \n",
      "691              695091                5                       10   \n",
      "692              714039                3                        1   \n",
      "693              763235                3                        1   \n",
      "694              776715                3                        1   \n",
      "695              841769                2                        1   \n",
      "696              888820                5                       10   \n",
      "697              897471                4                        8   \n",
      "698              897471                4                        8   \n",
      "\n",
      "     Uniformity of Cell Shape  Marginal Adhesion  Single Epithelial Cell Size  \\\n",
      "0                           1                  1                            2   \n",
      "1                           4                  5                            7   \n",
      "2                           1                  1                            2   \n",
      "3                           8                  1                            3   \n",
      "4                           1                  3                            2   \n",
      "5                          10                  8                            7   \n",
      "6                           1                  1                            2   \n",
      "7                           2                  1                            2   \n",
      "8                           1                  1                            2   \n",
      "9                           1                  1                            2   \n",
      "10                          1                  1                            1   \n",
      "11                          1                  1                            2   \n",
      "12                          3                  3                            2   \n",
      "13                          1                  1                            2   \n",
      "14                          5                 10                            7   \n",
      "15                          6                  4                            6   \n",
      "16                          1                  1                            2   \n",
      "17                          1                  1                            2   \n",
      "18                          7                  6                            4   \n",
      "19                          1                  1                            2   \n",
      "20                          2                 10                            5   \n",
      "21                          5                  3                            6   \n",
      "22                          1                  1                            2   \n",
      "24                          1                  1                            2   \n",
      "25                          3                  4                            2   \n",
      "26                          1                  1                            1   \n",
      "27                          1                  1                            2   \n",
      "28                          1                  1                            2   \n",
      "29                          3                  1                            2   \n",
      "30                          1                  1                            1   \n",
      "..                        ...                ...                          ...   \n",
      "669                        10                  8                            5   \n",
      "670                         7                  8                            5   \n",
      "671                         1                  2                            2   \n",
      "672                         1                  1                            2   \n",
      "673                         2                  1                            3   \n",
      "674                         1                  1                            2   \n",
      "675                         4                  1                            2   \n",
      "676                         2                  1                            2   \n",
      "677                         1                  1                            2   \n",
      "678                         1                  1                            2   \n",
      "679                         1                  1                            2   \n",
      "680                        10                 10                            5   \n",
      "681                        10                 10                            4   \n",
      "682                         1                  1                            2   \n",
      "683                         1                  1                            2   \n",
      "684                         1                  1                            2   \n",
      "685                         1                  1                            2   \n",
      "686                         1                  1                            2   \n",
      "687                         1                  1                            2   \n",
      "688                         1                  1                            2   \n",
      "689                         1                  1                            2   \n",
      "690                         1                  3                            2   \n",
      "691                        10                  5                            4   \n",
      "692                         1                  1                            2   \n",
      "693                         1                  1                            2   \n",
      "694                         1                  1                            3   \n",
      "695                         1                  1                            2   \n",
      "696                        10                  3                            7   \n",
      "697                         6                  4                            3   \n",
      "698                         8                  5                            4   \n",
      "\n",
      "    Bare Nuclei  Bland Chromatin  Normal Nucleoli  Mitoses  Class  \n",
      "0             1                3                1        1      2  \n",
      "1            10                3                2        1      2  \n",
      "2             2                3                1        1      2  \n",
      "3             4                3                7        1      2  \n",
      "4             1                3                1        1      2  \n",
      "5            10                9                7        1      4  \n",
      "6            10                3                1        1      2  \n",
      "7             1                3                1        1      2  \n",
      "8             1                1                1        5      2  \n",
      "9             1                2                1        1      2  \n",
      "10            1                3                1        1      2  \n",
      "11            1                2                1        1      2  \n",
      "12            3                4                4        1      4  \n",
      "13            3                3                1        1      2  \n",
      "14            9                5                5        4      4  \n",
      "15            1                4                3        1      4  \n",
      "16            1                2                1        1      2  \n",
      "17            1                3                1        1      2  \n",
      "18           10                4                1        2      4  \n",
      "19            1                3                1        1      2  \n",
      "20           10                5                4        4      4  \n",
      "21            7                7               10        1      4  \n",
      "22            1                2                1        1      2  \n",
      "24            1                3                1        1      2  \n",
      "25            7                3                6        1      4  \n",
      "26            1                2                1        1      2  \n",
      "27            1                2                1        1      2  \n",
      "28            1                2                1        1      2  \n",
      "29            1                1                1        1      2  \n",
      "30            1                2                1        1      2  \n",
      "..          ...              ...              ...      ...    ...  \n",
      "669           5                7               10        1      4  \n",
      "670           8                7                4        1      4  \n",
      "671           1                3                1        1      2  \n",
      "672           1                3                1        1      2  \n",
      "673           1                1                1        1      2  \n",
      "674           1                2                1        1      2  \n",
      "675           1                1                1        1      2  \n",
      "676           1                2                1        1      2  \n",
      "677           1                1                1        1      2  \n",
      "678           1                1                1        1      2  \n",
      "679           1                1                1        1      2  \n",
      "680          10               10               10        7      4  \n",
      "681          10                5                6        3      4  \n",
      "682           1                3                2        1      2  \n",
      "683           1                1                1        1      2  \n",
      "684           1                1                1        1      2  \n",
      "685           1                1                1        1      2  \n",
      "686           1                1                1        1      2  \n",
      "687           1                2                3        1      2  \n",
      "688           1                1                1        1      2  \n",
      "689           1                1                1        8      2  \n",
      "690           1                1                1        1      2  \n",
      "691           5                4                4        1      4  \n",
      "692           1                1                1        1      2  \n",
      "693           1                2                1        2      2  \n",
      "694           2                1                1        1      2  \n",
      "695           1                1                1        1      2  \n",
      "696           3                8               10        2      4  \n",
      "697           4               10                6        1      4  \n",
      "698           5               10                4        1      4  \n",
      "\n",
      "[683 rows x 11 columns]\n"
     ]
    }
   ],
   "source": [
    "# 将 ？替换为标准缺失值表示\n",
    "data = data.replace(to_replace='?', value = np.nan)\n",
    "# 丢弃带有缺失值的数据(只要有一个维度有缺失就丢掉)\n",
    "data = data.dropna(how = 'any')\n",
    "# 输出data的数据量和维度\n",
    "data.shape\n",
    "print(data)"
   ]
  },
  {
   "cell_type": "code",
   "execution_count": 22,
   "metadata": {},
   "outputs": [
    {
     "name": "stdout",
     "output_type": "stream",
     "text": [
      "(512, 9)\n",
      "(171, 9)\n",
      "2    344\n",
      "4    168\n",
      "Name: Class, dtype: int64\n",
      "2    100\n",
      "4     71\n",
      "Name: Class, dtype: int64\n"
     ]
    }
   ],
   "source": [
    "# 由于原始数据没有提供对应的测试样本用于评估模型性能，因此需要对带有标记的数据进行分割\n",
    "# 通常 25% 的数据会作为测试集\n",
    "# 75% 的数据用于训练\n",
    "# 使用sklearn.cross_valiation 里的 train_test_split 模块用于分割数据\n",
    "from sklearn.cross_validation import train_test_split\n",
    "# 随机采样 25% 的数据用于测试，剩下的 75% 用于构建训练集合\n",
    "x_train, x_test, y_train, y_test = train_test_split(data[column_names[1:10]], data[column_names[10]], test_size = 0.25, random_state = 33)\n",
    "# 查验训练样本的数量和类别分布\n",
    "print(y_train.value_counts())\n",
    "# 查验测试样本的数量和类别分布\n",
    "print(y_test.value_counts())\n",
    "# 用于训练样本共有 512 条(344 条良性肿瘤数据，168 条恶性肿瘤数据)，测试样本有 171 条(100 条良性， 71 条恶性)"
   ]
  },
  {
   "cell_type": "code",
   "execution_count": 8,
   "metadata": {
    "collapsed": true
   },
   "outputs": [],
   "source": [
    "# 通过逻辑斯蒂回归与随机梯度参数估计两种方法对上述处理后的训练数据进行学习，并且根据测试样本特征进行预测\n",
    "# 导入需要的工具\n",
    "from sklearn.preprocessing import StandardScaler\n",
    "from sklearn.linear_model import LogisticRegression\n",
    "from sklearn.linear_model import SGDClassifier"
   ]
  },
  {
   "cell_type": "code",
   "execution_count": 9,
   "metadata": {
    "collapsed": true
   },
   "outputs": [],
   "source": [
    "# 标准化数据，保证每个维度的特征数据方差为1，均值为0，使得预测结果不会被某些维度过大的特征值而主导\n",
    "ss = StandardScaler()\n",
    "x_train = ss.fit_transform(x_train)\n",
    "x_test = ss.transform(x_test)"
   ]
  },
  {
   "cell_type": "code",
   "execution_count": 10,
   "metadata": {
    "collapsed": true
   },
   "outputs": [],
   "source": [
    "# 初始化 LogisticRegression 与 SGDClassifier\n",
    "lr = LogisticRegression()\n",
    "sgdc = SGDClassifier()"
   ]
  },
  {
   "cell_type": "code",
   "execution_count": 11,
   "metadata": {},
   "outputs": [
    {
     "name": "stdout",
     "output_type": "stream",
     "text": [
      "[2 2 4 4 2 2 2 4 2 2 2 2 4 2 4 4 4 4 4 2 2 4 4 2 4 4 2 2 4 4 4 4 4 4 4 4 2\n",
      " 4 4 4 4 4 2 4 2 2 4 2 2 4 4 2 2 2 4 2 2 2 2 2 4 4 2 2 2 4 2 2 2 2 4 2 2 2\n",
      " 2 2 2 4 4 2 2 2 4 2 2 2 4 2 4 2 4 4 2 2 2 2 4 4 2 2 2 4 2 2 4 2 2 2 2 2 4\n",
      " 2 2 2 2 2 2 4 2 2 4 4 2 4 2 2 2 4 2 2 4 4 2 4 4 2 2 2 2 4 2 4 2 4 2 2 2 2\n",
      " 2 4 4 2 4 4 2 4 2 2 2 2 4 4 4 2 4 2 2 4 2 4 4]\n",
      "[4 2 4 4 2 2 2 4 2 2 2 2 4 2 4 4 4 4 4 2 4 4 4 2 4 4 2 2 4 4 4 4 4 4 4 4 2\n",
      " 4 4 4 4 4 2 4 2 2 4 2 2 4 4 2 2 2 4 2 2 2 2 2 4 4 2 2 2 4 2 2 2 2 4 2 2 4\n",
      " 2 2 2 4 4 2 2 2 4 2 2 2 4 2 4 2 4 4 2 2 2 2 4 4 2 2 2 4 2 2 4 2 2 2 2 2 4\n",
      " 2 2 2 2 2 2 4 2 2 4 2 2 4 2 2 2 4 2 2 4 4 2 4 4 2 2 2 2 4 2 4 2 4 2 2 2 2\n",
      " 2 4 4 2 4 4 2 4 2 2 2 2 4 4 4 2 4 2 2 4 2 4 4]\n"
     ]
    }
   ],
   "source": [
    "# 调用 LogisticRegression 中的 fit 函数来训练模型参数\n",
    "lr.fit(x_train, y_train)\n",
    "# 使用训练好的模型 lr 对 x_test 进行预测，结果储存在变量lr_y_predict中\n",
    "lr_y_predict = lr.predict(x_test)\n",
    "print(lr_y_predict)\n",
    "# 调用 SGDClassifier 中的 fit 函数用来训练模型参数\n",
    "sgdc.fit(x_train, y_train)\n",
    "# 使用训练好的模型 sgdc 对 x_test 进行预测，结果储存在变量 sgdc_y_predict中\n",
    "sgdc_y_predict = sgdc.predict(x_test)\n",
    "print(sgdc_y_predict)"
   ]
  },
  {
   "cell_type": "code",
   "execution_count": 12,
   "metadata": {
    "collapsed": true
   },
   "outputs": [],
   "source": [
    "# 关注应该被正确是被的恶性肿瘤的百分比，也就是召回率更高的预测模型,书籍(42（56/198）)\n",
    "# 更加细致的分析两个模型（lr,sgdc）在准确率，召回率，正确率以及F1指标的表现情况\n",
    "\n",
    "# 使用线性分类模型对良/恶性肿瘤预测任务的性能分析\n",
    "# 导入classification_report\n",
    "from sklearn.metrics import classification_report"
   ]
  },
  {
   "cell_type": "code",
   "execution_count": 14,
   "metadata": {},
   "outputs": [
    {
     "name": "stdout",
     "output_type": "stream",
     "text": [
      "Accuracy of LR Classifier:  0.988304093567\n",
      "             precision    recall  f1-score   support\n",
      "\n",
      "     Benjgn       0.99      0.99      0.99       100\n",
      "  Malignant       0.99      0.99      0.99        71\n",
      "\n",
      "avg / total       0.99      0.99      0.99       171\n",
      "\n"
     ]
    }
   ],
   "source": [
    "# 使用逻辑斯蒂回归模型(lr)自带的评分函数 score 获得模型在测试集上的准确性结果\n",
    "print('Accuracy of LR Classifier: ', lr.score(x_test, y_test))\n",
    "# 利用 classification_report 模块获得 LogisticRegression 其他三个指标的结果\n",
    "print(classification_report(y_test, lr_y_predict, target_names = ['Benjgn', 'Malignant']))"
   ]
  },
  {
   "cell_type": "code",
   "execution_count": 15,
   "metadata": {},
   "outputs": [
    {
     "name": "stdout",
     "output_type": "stream",
     "text": [
      "Accuarcy of SGD Classifier:  0.976608187135\n",
      "             precision    recall  f1-score   support\n",
      "\n",
      "     Benign       0.99      0.97      0.98       100\n",
      "  Malignant       0.96      0.99      0.97        71\n",
      "\n",
      "avg / total       0.98      0.98      0.98       171\n",
      "\n"
     ]
    }
   ],
   "source": [
    "# 使用梯度下降模型(SGD)查看准确性结果\n",
    "print('Accuarcy of SGD Classifier: ', sgdc.score(x_test, y_test))\n",
    "# 获得 SGDClassifier 其他的三个指标\n",
    "print(classification_report(y_test, sgdc_y_predict, target_names=['Benign', 'Malignant']))"
   ]
  },
  {
   "cell_type": "code",
   "execution_count": 16,
   "metadata": {
    "collapsed": true
   },
   "outputs": [],
   "source": [
    "# LogisticRegression 比 SGDClassifier 在 测试集 上表现有更高的准确性(Accuracy), 因为 Scikit-learn 中\n",
    "# 采用解析的方式精确计算 LogisticRegression 的参数，而使用梯度法估计 SGDClassifier 的参数\n",
    "# 书籍 43（57/198）"
   ]
  },
  {
   "cell_type": "code",
   "execution_count": null,
   "metadata": {
    "collapsed": true
   },
   "outputs": [],
   "source": []
  }
 ],
 "metadata": {
  "kernelspec": {
   "display_name": "Python 3",
   "language": "python",
   "name": "python3"
  },
  "language_info": {
   "codemirror_mode": {
    "name": "ipython",
    "version": 3
   },
   "file_extension": ".py",
   "mimetype": "text/x-python",
   "name": "python",
   "nbconvert_exporter": "python",
   "pygments_lexer": "ipython3",
   "version": "3.6.1"
  }
 },
 "nbformat": 4,
 "nbformat_minor": 2
}
