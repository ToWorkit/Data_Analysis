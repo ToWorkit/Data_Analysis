{
 "cells": [
  {
   "cell_type": "code",
   "execution_count": 13,
   "metadata": {},
   "outputs": [
    {
     "name": "stdout",
     "output_type": "stream",
     "text": [
      "(1797, 64)\n",
      "(1797,)\n"
     ]
    }
   ],
   "source": [
    "# 使用支持向量机分类器处理 Scikit-learn 内部集成的手写体数字图片数据集\n",
    "# 从 sklearn.datasets 中导入手写体数字加载器\n",
    "from sklearn.datasets import load_digits\n",
    "# 从通过数据加载器获得手写体数字的数码图像数据并储存在digits变量中\n",
    "digits = load_digits()\n",
    "# 数码图像数据共 1797 条，每幅图片由 8 * 8 = 64 的像素矩阵表示\n",
    "# 查看数据规模和特征维度\n",
    "print(digits.data.shape)\n",
    "# 数码图像数据共 1797 条\n",
    "print(digits.target.shape)"
   ]
  },
  {
   "cell_type": "code",
   "execution_count": 2,
   "metadata": {
    "collapsed": true
   },
   "outputs": [],
   "source": [
    "# 数据分割 75% 的训练样本和 25% 的测试样本\n",
    "# 导入 train_test_split 用于数据分割\n",
    "from sklearn.cross_validation import train_test_split"
   ]
  },
  {
   "cell_type": "code",
   "execution_count": 9,
   "metadata": {},
   "outputs": [
    {
     "name": "stdout",
     "output_type": "stream",
     "text": [
      "(1347,) (450,)\n"
     ]
    }
   ],
   "source": [
    "# 随机选取 75% 的数据作为训练样本，其余 25% 的数据作为测试样本\n",
    "x_train, x_test, y_train, y_test = train_test_split(digits.data, digits.target, test_size = 0.25, random_state = 33)\n",
    "# 查看 训练集 和 测试集 数据规模 => digits.target\n",
    "print(y_train.shape, y_test.shape)"
   ]
  },
  {
   "cell_type": "code",
   "execution_count": 14,
   "metadata": {
    "collapsed": true
   },
   "outputs": [],
   "source": [
    "# 基于线性假设的支持向量机(svm)模型 => 使用支持向量机(分类)对手写体数字图像进行识别\n",
    "# 从 sklearn.preprocessing 里导入数据标准化模块\n",
    "from sklearn.preprocessing import StandardScaler\n",
    "# 从 sklearn.svm 里导入基于线性假设的支持向量机分类器 LinearSVC\n",
    "from sklearn.svm import LinearSVC"
   ]
  },
  {
   "cell_type": "code",
   "execution_count": 16,
   "metadata": {},
   "outputs": [
    {
     "name": "stdout",
     "output_type": "stream",
     "text": [
      "[[ 0.         -0.32672314 -0.87554711 ..., -1.11540424 -0.49709493\n",
      "  -0.19054741]\n",
      " [ 0.         -0.32672314 -0.2423893  ..., -1.11540424 -0.49709493\n",
      "  -0.19054741]\n",
      " [ 0.         -0.32672314 -1.08659972 ..., -1.11540424 -0.49709493\n",
      "  -0.19054741]\n",
      " ..., \n",
      " [ 0.         -0.32672314 -0.2423893  ..., -1.11540424 -0.49709493\n",
      "  -0.19054741]\n",
      " [ 0.         -0.32672314  1.44603155 ..., -1.11540424 -0.49709493\n",
      "  -0.19054741]\n",
      " [ 0.          0.75459398  0.39076852 ..., -1.11540424 -0.49709493\n",
      "  -0.19054741]] [[ 0.         -0.36287481 -0.28639743 ...,  0.6559761  -0.5311936\n",
      "  -0.21279447]\n",
      " [ 0.         -0.36287481 -0.49493925 ...,  1.52112628  1.84020639\n",
      "  -0.21279447]\n",
      " [ 0.         -0.36287481  0.33922802 ..., -1.24735431 -0.5311936\n",
      "  -0.21279447]\n",
      " ..., \n",
      " [ 0.         -0.36287481  0.13068621 ...,  0.82900613 -0.2940536\n",
      "  -0.21279447]\n",
      " [ 0.         -0.36287481 -1.1205647  ...,  0.6559761  -0.2940536\n",
      "  -0.21279447]\n",
      " [ 0.         -0.36287481 -1.1205647  ...,  1.52112628  2.07734639\n",
      "  -0.21279447]]\n"
     ]
    }
   ],
   "source": [
    "# 对训练和测试的特征数据进行标准化\n",
    "ss = StandardScaler()\n",
    "x_train = ss.fit_transform(x_train)\n",
    "x_test = ss.fit_transform(x_test)\n",
    "# print(x_train, x_test)"
   ]
  },
  {
   "cell_type": "code",
   "execution_count": 18,
   "metadata": {},
   "outputs": [
    {
     "name": "stdout",
     "output_type": "stream",
     "text": [
      "[1 3 7 3 2 4 6 1 4 0 4 7 9 5 2 8 3 6 7 0 6 7 8 3 0 6 2 3 0 9 0 2 0 6 9 1 1\n",
      " 5 8 0 6 1 5 8 9 5 1 6 2 6 6 7 6 7 7 2 7 8 0 7 3 6 3 9 6 6 5 5 4 2 9 3 7 6\n",
      " 5 7 2 8 1 2 2 8 1 1 6 3 5 0 0 1 6 7 6 8 9 7 0 0 9 8 0 8 2 3 6 1 9 9 1 7 3\n",
      " 9 8 8 5 9 5 1 1 7 9 3 3 2 8 1 3 8 6 4 0 0 0 7 1 5 5 1 8 5 1 8 1 6 9 9 4 5\n",
      " 7 5 2 1 2 5 8 7 7 5 1 9 6 9 8 0 6 1 2 1 5 7 8 9 6 8 4 1 0 0 9 8 7 2 8 6 4\n",
      " 8 9 4 2 6 1 8 5 6 7 5 1 9 2 8 3 2 9 4 3 5 5 6 2 4 3 2 6 4 8 5 8 0 8 8 6 3\n",
      " 2 3 0 5 7 1 3 9 3 2 1 6 6 5 1 9 7 2 4 5 2 1 3 1 1 2 1 7 0 1 2 2 1 2 4 9 6\n",
      " 6 3 9 2 8 1 5 5 1 8 6 2 5 6 0 1 4 2 1 8 9 4 3 0 6 8 3 3 2 0 2 0 6 5 6 6 4\n",
      " 6 1 8 3 4 1 3 5 1 4 9 8 7 5 1 1 3 7 1 8 3 7 4 0 7 2 8 7 1 9 4 5 3 5 2 5 1\n",
      " 3 0 5 8 4 7 6 9 9 3 3 4 0 6 4 7 0 6 1 2 3 3 4 5 3 3 5 2 0 9 7 1 5 5 8 4 4\n",
      " 3 6 2 5 1 0 6 1 5 8 4 7 6 4 3 4 0 3 0 1 2 8 0 5 4 5 2 2 9 6 9 8 0 8 8 2 4\n",
      " 6 5 6 4 3 9 8 9 7 1 7 9 4 1 9 9 5 9 8 0 8 2 5 1 4 2 6 3 7 9 3 7 4 3 7 1 8\n",
      " 8 9 5 3 6 6]\n"
     ]
    }
   ],
   "source": [
    "# 初始化线性假设的支持向量机分类器 LinearSVC\n",
    "lsvc = LinearSVC()\n",
    "# 进行模型训练\n",
    "lsvc.fit(x_train, y_train)\n",
    "# 利用训练好的模型对测试样本的数字类别进行预测，结果储存到变量 y_predict 中\n",
    "y_predict = lsvc.predict(x_test)\n",
    "# print(y_predict)"
   ]
  },
  {
   "cell_type": "code",
   "execution_count": 19,
   "metadata": {},
   "outputs": [
    {
     "name": "stdout",
     "output_type": "stream",
     "text": [
      "The Accuracy of Linear SVC is  0.948888888889\n"
     ]
    }
   ],
   "source": [
    "# 使用准确率，召回率，正确率以及F1指标，这4个测试对支持向量机(分类)模型对手写体数字图像识别任务进行性能评估\n",
    "# 使用模型自带的评估函数进行准确性测评\n",
    "print('The Accuracy of Linear SVC is ', lsvc.score(x_test, y_test))"
   ]
  },
  {
   "cell_type": "code",
   "execution_count": 20,
   "metadata": {},
   "outputs": [
    {
     "name": "stdout",
     "output_type": "stream",
     "text": [
      "             precision    recall  f1-score   support\n",
      "\n",
      "          0       0.92      0.97      0.94        35\n",
      "          1       0.95      0.98      0.96        54\n",
      "          2       0.98      1.00      0.99        44\n",
      "          3       0.93      0.93      0.93        46\n",
      "          4       0.97      1.00      0.99        35\n",
      "          5       0.94      0.94      0.94        48\n",
      "          6       0.96      0.98      0.97        51\n",
      "          7       0.90      1.00      0.95        35\n",
      "          8       0.98      0.83      0.90        58\n",
      "          9       0.95      0.91      0.93        44\n",
      "\n",
      "avg / total       0.95      0.95      0.95       450\n",
      "\n"
     ]
    }
   ],
   "source": [
    "# 用 sklearn.metrices 里面的 classification_report 模块对预测结果做更详细的分析\n",
    "from sklearn.metrics import classification_report\n",
    "print(classification_report(y_test, y_predict, target_names = digits.target_names.astype(str)))"
   ]
  },
  {
   "cell_type": "code",
   "execution_count": null,
   "metadata": {
    "collapsed": true
   },
   "outputs": [],
   "source": []
  }
 ],
 "metadata": {
  "kernelspec": {
   "display_name": "Python 3",
   "language": "python",
   "name": "python3"
  },
  "language_info": {
   "codemirror_mode": {
    "name": "ipython",
    "version": 3
   },
   "file_extension": ".py",
   "mimetype": "text/x-python",
   "name": "python",
   "nbconvert_exporter": "python",
   "pygments_lexer": "ipython3",
   "version": "3.6.1"
  }
 },
 "nbformat": 4,
 "nbformat_minor": 2
}
