{
 "cells": [
  {
   "cell_type": "code",
   "execution_count": 1,
   "metadata": {
    "collapsed": true
   },
   "outputs": [],
   "source": [
    "sent_1 = 'The cat is walking in the bedroom'\n",
    "sent_2 = 'A dog was running across the kitchen'"
   ]
  },
  {
   "cell_type": "code",
   "execution_count": 6,
   "metadata": {},
   "outputs": [
    {
     "name": "stdout",
     "output_type": "stream",
     "text": [
      "(2, 11)\n",
      "['across', 'bedroom', 'cat', 'dog', 'in', 'is', 'kitchen', 'running', 'the', 'walking', 'was']\n"
     ]
    }
   ],
   "source": [
    "# 特征向量化\n",
    "from sklearn.feature_extraction.text import CountVectorizer\n",
    "count_vec = CountVectorizer()\n",
    "sentences = [sent_1, sent_2]\n",
    "# 输出特征向量化后的表示\n",
    "print(count_vec.fit_transform(sentences).toarray().shape)\n",
    "# 输出向量各个维度的特征含义\n",
    "print(count_vec.get_feature_names())"
   ]
  },
  {
   "cell_type": "code",
   "execution_count": 7,
   "metadata": {
    "collapsed": true
   },
   "outputs": [],
   "source": [
    "# 使用nltk对文本进行语言学分析"
   ]
  },
  {
   "cell_type": "code",
   "execution_count": 8,
   "metadata": {
    "collapsed": true
   },
   "outputs": [],
   "source": [
    "import nltk"
   ]
  },
  {
   "cell_type": "code",
   "execution_count": 9,
   "metadata": {
    "collapsed": true
   },
   "outputs": [],
   "source": [
    "# 对句子进行词汇分割和正规化\n",
    "# 有时 aren't 需要分割为 are 和 n't 或者 i'm 分为 i 和 'm"
   ]
  },
  {
   "cell_type": "code",
   "execution_count": 11,
   "metadata": {},
   "outputs": [
    {
     "name": "stdout",
     "output_type": "stream",
     "text": [
      "['The', 'cat', 'is', 'walking', 'in', 'the', 'bedroom']\n",
      "['A', 'dog', 'was', 'running', 'across', 'the', 'kitchen']\n"
     ]
    }
   ],
   "source": [
    "tokens_1 = nltk.word_tokenize(sent_1)\n",
    "print(tokens_1)\n",
    "tokens_2 = nltk.word_tokenize(sent_2)\n",
    "print(tokens_2)"
   ]
  },
  {
   "cell_type": "code",
   "execution_count": 12,
   "metadata": {},
   "outputs": [
    {
     "name": "stdout",
     "output_type": "stream",
     "text": [
      "['The', 'bedroom', 'cat', 'in', 'is', 'the', 'walking']\n",
      "['A', 'across', 'dog', 'kitchen', 'running', 'the', 'was']\n"
     ]
    }
   ],
   "source": [
    "# 整理两句的词表，按照ASCII的排序输出\n",
    "vocab_1 = sorted(set(tokens_1))\n",
    "print(vocab_1)\n",
    "vocab_2 = sorted(set(tokens_2))\n",
    "print(vocab_2)"
   ]
  },
  {
   "cell_type": "code",
   "execution_count": 13,
   "metadata": {},
   "outputs": [
    {
     "name": "stdout",
     "output_type": "stream",
     "text": [
      "['the', 'cat', 'is', 'walk', 'in', 'the', 'bedroom']\n",
      "['A', 'dog', 'wa', 'run', 'across', 'the', 'kitchen']\n"
     ]
    }
   ],
   "source": [
    "# 初始化 stemmer 寻找各个词汇最原始的词根\n",
    "stemmer = nltk.stem.PorterStemmer()\n",
    "stem_1 = [stemmer.stem(t) for t in tokens_1]\n",
    "print(stem_1)\n",
    "stem_2 = [stemmer.stem(t) for t in tokens_2]\n",
    "print(stem_2)"
   ]
  },
  {
   "cell_type": "code",
   "execution_count": 14,
   "metadata": {},
   "outputs": [
    {
     "name": "stdout",
     "output_type": "stream",
     "text": [
      "[('The', 'DT'), ('cat', 'NN'), ('is', 'VBZ'), ('walking', 'VBG'), ('in', 'IN'), ('the', 'DT'), ('bedroom', 'NN')]\n",
      "[('A', 'DT'), ('dog', 'NN'), ('was', 'VBD'), ('running', 'VBG'), ('across', 'IN'), ('the', 'DT'), ('kitchen', 'NN')]\n"
     ]
    }
   ],
   "source": [
    "# 初始化词性标注器，对每个词汇进行标注\n",
    "pos_tag_1 = nltk.tag.pos_tag(tokens_1)\n",
    "print(pos_tag_1)\n",
    "pos_tag_2 = nltk.tag.pos_tag(tokens_2)\n",
    "print(pos_tag_2)"
   ]
  },
  {
   "cell_type": "code",
   "execution_count": null,
   "metadata": {
    "collapsed": true
   },
   "outputs": [],
   "source": []
  }
 ],
 "metadata": {
  "kernelspec": {
   "display_name": "Python 3",
   "language": "python",
   "name": "python3"
  },
  "language_info": {
   "codemirror_mode": {
    "name": "ipython",
    "version": 3
   },
   "file_extension": ".py",
   "mimetype": "text/x-python",
   "name": "python",
   "nbconvert_exporter": "python",
   "pygments_lexer": "ipython3",
   "version": "3.6.1"
  }
 },
 "nbformat": 4,
 "nbformat_minor": 2
}
