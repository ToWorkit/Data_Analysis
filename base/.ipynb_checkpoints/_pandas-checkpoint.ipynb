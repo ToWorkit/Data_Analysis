{
 "cells": [
  {
   "cell_type": "code",
   "execution_count": 1,
   "metadata": {
    "collapsed": true
   },
   "outputs": [],
   "source": [
    "from pandas import Series, DataFrame\n",
    "import numpy as np"
   ]
  },
  {
   "cell_type": "code",
   "execution_count": 4,
   "metadata": {},
   "outputs": [
    {
     "name": "stdout",
     "output_type": "stream",
     "text": [
      "0    4\n",
      "1    7\n",
      "2   -5\n",
      "3    3\n",
      "dtype: int64\n",
      "2\n"
     ]
    }
   ],
   "source": [
    "# 用数组生成Series\n",
    "obj = Series([4, 7, -5, 3])\n",
    "# 可以指定索引\n",
    "obj_1 = Series([1, 2], index = ['a', 'b'])\n",
    "print(obj)\n",
    "print(obj_1['b'])\n",
    "# print(obj.values)\n",
    "# print(obj.index)"
   ]
  },
  {
   "cell_type": "code",
   "execution_count": 6,
   "metadata": {},
   "outputs": [
    {
     "name": "stdout",
     "output_type": "stream",
     "text": [
      "a    123\n",
      "b    456\n",
      "dtype: int64\n",
      "abc      NaN\n",
      "a      123.0\n",
      "b      456.0\n",
      "dtype: float64\n"
     ]
    }
   ],
   "source": [
    "# 使用字典生成Series\n",
    "sdata = {\n",
    "    'a': 123,\n",
    "    'b': 456,\n",
    "}\n",
    "obj = Series(sdata)\n",
    "print(obj)\n",
    "# 指定额外index，不匹配部分指定缺失值为NaN\n",
    "states = ['abc', 'a', 'b']\n",
    "obj_1 = Series(sdata, index = states)\n",
    "print(obj_1)"
   ]
  },
  {
   "cell_type": "code",
   "execution_count": 3,
   "metadata": {},
   "outputs": [
    {
     "name": "stdout",
     "output_type": "stream",
     "text": [
      "d    4\n",
      "b    5\n",
      "c    6\n",
      "a    7\n",
      "dtype: int64\n",
      "a    7\n",
      "b    5\n",
      "c    6\n",
      "d    4\n",
      "e    0\n",
      "dtype: int64\n"
     ]
    }
   ],
   "source": [
    "# 指定不匹配的值为 0\n",
    "obj = Series([4, 5, 6, 7], index = ['d', 'b', 'c', 'a'])\n",
    "print(obj)\n",
    "# 按索引排列顺序\n",
    "# 没有的数据默认(缺省)为 0\n",
    "obj = obj.reindex(['a', 'b', 'c', 'd', 'e'], fill_value = 0)\n",
    "print(obj)"
   ]
  },
  {
   "cell_type": "code",
   "execution_count": 34,
   "metadata": {},
   "outputs": [
    {
     "name": "stdout",
     "output_type": "stream",
     "text": [
      "   one  two  three  four\n",
      "一    0    1      2     3\n",
      "二    4    5      6     7\n",
      "三    8    9     10    11\n",
      "四   12   13     14    15\n",
      "一     2\n",
      "二     6\n",
      "三    10\n",
      "四    14\n",
      "Name: three, dtype: int32\n",
      "   one  two  three  four\n",
      "一    0    1      2     3\n",
      "二    4    5      6     7\n",
      "two      9\n",
      "four    11\n",
      "Name: 三, dtype: int32\n",
      "   one  three\n",
      "一    0      2\n",
      "二    4      6\n",
      "三    8     10\n",
      "四   12     14\n",
      "one       8\n",
      "two       9\n",
      "three    10\n",
      "four     11\n",
      "Name: 三, dtype: int32\n"
     ]
    }
   ],
   "source": [
    "# DataFrame的索引\n",
    "# index -> 行\n",
    "# columns -> 列\n",
    "data = DataFrame(np.arange(16).reshape((4, 4)), index = ['一', '二', '三', '四'], columns = ['one', 'two', 'three', 'four'])\n",
    "print(data)\n",
    "# 打印列\n",
    "print(data['three'])\n",
    "# 切片 -> 按行\n",
    "print(data[:2])\n",
    "# loc -> 索引 -> ix 已弃用\n",
    "print(data.loc['三', ['two', 'four']])\n",
    "# loc -> 按列\n",
    "print(data.loc[:, ['one', 'three']])\n",
    "# iloc -> 倒数第二行\n",
    "print(data.iloc[-2])"
   ]
  },
  {
   "cell_type": "code",
   "execution_count": 2,
   "metadata": {},
   "outputs": [
    {
     "name": "stdout",
     "output_type": "stream",
     "text": [
      "              b         d         e\n",
      "one    0.950456 -0.154091 -0.343785\n",
      "two   -0.623272  0.940220 -0.513648\n",
      "three -0.701761  0.293716 -0.430703\n",
      "four  -0.226114 -0.558993 -1.874381\n",
      "              b         d         e\n",
      "one    0.950456  0.154091  0.343785\n",
      "two    0.623272  0.940220  0.513648\n",
      "three  0.701761  0.293716  0.430703\n",
      "four   0.226114  0.558993  1.874381\n"
     ]
    }
   ],
   "source": [
    "frame = DataFrame(np.random.randn(4, 3), columns = list('bde'), index = ['one', 'two', 'three', 'four'])\n",
    "print(frame)\n",
    "# 取绝对值\n",
    "print(np.abs(frame))"
   ]
  },
  {
   "cell_type": "code",
   "execution_count": 18,
   "metadata": {},
   "outputs": [
    {
     "name": "stdout",
     "output_type": "stream",
     "text": [
      "b    1.652217\n",
      "d    1.499213\n",
      "e    1.530596\n",
      "dtype: float64\n",
      "one      1.294242\n",
      "two      1.563492\n",
      "three    0.995477\n",
      "four     1.648267\n",
      "dtype: float64\n",
      "           b      d      e\n",
      "one     0.95  -0.15  -0.34\n",
      "two    -0.62   0.94  -0.51\n",
      "three  -0.70   0.29  -0.43\n",
      "four   -0.23  -0.56  -1.87\n",
      "one      -0.15\n",
      "two       0.94\n",
      "three     0.29\n",
      "four     -0.56\n",
      "Name: d, dtype: object\n"
     ]
    }
   ],
   "source": [
    "# 使用 lambda -> 匿名函数\n",
    "# 按行或者列计算出 最大值 - 最小值\n",
    "f = lambda x : x.max() - x.min()\n",
    "# 按列 -> 默认\n",
    "print(frame.apply(f))\n",
    "# 按行\n",
    "print(frame.apply(f, axis = 1))\n",
    "# 取浮点数的后两位\n",
    "_format = lambda x : '%.2f' % x\n",
    "# applymap -> 应用到所有项\n",
    "print(frame.applymap(_format))\n",
    "# 应用到指定 列 的所有项\n",
    "print(frame['d'].map(_format))"
   ]
  },
  {
   "cell_type": "code",
   "execution_count": 10,
   "metadata": {},
   "outputs": [
    {
     "name": "stdout",
     "output_type": "stream",
     "text": [
      "[5 7 9]\n",
      "[ 6 15]\n"
     ]
    }
   ],
   "source": [
    "# 列\n",
    "# reduce -> 指定轴 默认为列\n",
    "print(np.add.reduce([[1,2,3], [4,5,6]]))\n",
    "# 行\n",
    "print(np.add.reduce([[1,2,3], [4,5,6]], axis=1))"
   ]
  },
  {
   "cell_type": "code",
   "execution_count": 32,
   "metadata": {},
   "outputs": [
    {
     "name": "stdout",
     "output_type": "stream",
     "text": [
      "a    0\n",
      "a    1\n",
      "b    2\n",
      "b    3\n",
      "c    4\n",
      "dtype: int32\n",
      "False\n",
      "a    0\n",
      "a    1\n",
      "dtype: int32\n"
     ]
    }
   ],
   "source": [
    "obj = Series(range(5), index = ['a', 'a', 'b', 'b', 'c'])\n",
    "print(obj)\n",
    "# 判断 是不是 没有重复元素\n",
    "print(obj.index.is_unique)\n",
    "print(obj['a'])"
   ]
  },
  {
   "cell_type": "code",
   "execution_count": 36,
   "metadata": {},
   "outputs": [
    {
     "ename": "ImportError",
     "evalue": "The pandas.io.data module is moved to a separate package (pandas-datareader). After installing the pandas-datareader package (https://github.com/pydata/pandas-datareader), you can change the import ``from pandas.io import data, wb`` to ``from pandas_datareader import data, wb``.",
     "output_type": "error",
     "traceback": [
      "\u001b[1;31m---------------------------------------------------------------------------\u001b[0m",
      "\u001b[1;31mImportError\u001b[0m                               Traceback (most recent call last)",
      "\u001b[1;32m<ipython-input-36-f2b7ca3b64f4>\u001b[0m in \u001b[0;36m<module>\u001b[1;34m()\u001b[0m\n\u001b[0;32m      3\u001b[0m \u001b[1;32mimport\u001b[0m \u001b[0mnumpy\u001b[0m \u001b[1;32mas\u001b[0m \u001b[0mnp\u001b[0m\u001b[1;33m\u001b[0m\u001b[0m\n\u001b[0;32m      4\u001b[0m \u001b[1;32mimport\u001b[0m \u001b[0mpandas\u001b[0m \u001b[1;32mas\u001b[0m \u001b[0mpd\u001b[0m\u001b[1;33m\u001b[0m\u001b[0m\n\u001b[1;32m----> 5\u001b[1;33m \u001b[1;32mimport\u001b[0m \u001b[0mpandas\u001b[0m\u001b[1;33m.\u001b[0m\u001b[0mio\u001b[0m\u001b[1;33m.\u001b[0m\u001b[0mdata\u001b[0m \u001b[1;32mas\u001b[0m \u001b[0mweb\u001b[0m\u001b[1;33m\u001b[0m\u001b[0m\n\u001b[0m\u001b[0;32m      6\u001b[0m \u001b[1;32mfrom\u001b[0m \u001b[0mpandas\u001b[0m \u001b[1;32mimport\u001b[0m \u001b[0mSeries\u001b[0m\u001b[1;33m,\u001b[0m \u001b[0mDataFrame\u001b[0m\u001b[1;33m,\u001b[0m \u001b[0mIndex\u001b[0m\u001b[1;33m,\u001b[0m \u001b[0mPanel\u001b[0m\u001b[1;33m\u001b[0m\u001b[0m\n\u001b[0;32m      7\u001b[0m \u001b[1;33m\u001b[0m\u001b[0m\n",
      "\u001b[1;32mC:\\Users\\Just Do It\\Anaconda3\\lib\\site-packages\\pandas\\io\\data.py\u001b[0m in \u001b[0;36m<module>\u001b[1;34m()\u001b[0m\n\u001b[0;32m      1\u001b[0m raise ImportError(\n\u001b[1;32m----> 2\u001b[1;33m     \u001b[1;34m\"The pandas.io.data module is moved to a separate package \"\u001b[0m\u001b[1;33m\u001b[0m\u001b[0m\n\u001b[0m\u001b[0;32m      3\u001b[0m     \u001b[1;34m\"(pandas-datareader). After installing the pandas-datareader package \"\u001b[0m\u001b[1;33m\u001b[0m\u001b[0m\n\u001b[0;32m      4\u001b[0m     \u001b[1;34m\"(https://github.com/pydata/pandas-datareader), you can change \"\u001b[0m\u001b[1;33m\u001b[0m\u001b[0m\n\u001b[0;32m      5\u001b[0m     \u001b[1;34m\"the import ``from pandas.io import data, wb`` to \"\u001b[0m\u001b[1;33m\u001b[0m\u001b[0m\n",
      "\u001b[1;31mImportError\u001b[0m: The pandas.io.data module is moved to a separate package (pandas-datareader). After installing the pandas-datareader package (https://github.com/pydata/pandas-datareader), you can change the import ``from pandas.io import data, wb`` to ``from pandas_datareader import data, wb``."
     ]
    }
   ],
   "source": [
    "# -*- coding: utf-8 -*- \n",
    "\n",
    "import numpy as np\n",
    "import pandas as pd\n",
    "import pandas.io.data as web\n",
    "from pandas import Series, DataFrame, Index, Panel\n",
    "\n",
    "pdata = Panel(dict((stk, web.get_data_yahoo(stk, '1/1/2016', '1/15/2016')) for stk in ['AAPL', 'GOOG', 'BIDU', 'MSFT']))\n",
    "print(pdata)\n",
    "pdata = pdata.swapaxes('items', 'minor')\n",
    "print(pdata)\n",
    "\n",
    "print(\"访问顺序：# Item -> Major -> Minor\")\n",
    "print(pdata['Adj Close'])\n",
    "print(pdata[:, '1/5/2016', :])\n",
    "print(pdata['Adj Close', '1/6/2016', :])\n",
    "\n",
    "print('Panel与DataFrame相互转换')\n",
    "stacked = pdata.ix[:, '1/7/2016':, :].to_frame()\n",
    "print(stacked)\n",
    "print(stacked.to_panel())"
   ]
  },
  {
   "cell_type": "code",
   "execution_count": null,
   "metadata": {
    "collapsed": true
   },
   "outputs": [],
   "source": []
  }
 ],
 "metadata": {
  "kernelspec": {
   "display_name": "Python 3",
   "language": "python",
   "name": "python3"
  },
  "language_info": {
   "codemirror_mode": {
    "name": "ipython",
    "version": 3
   },
   "file_extension": ".py",
   "mimetype": "text/x-python",
   "name": "python",
   "nbconvert_exporter": "python",
   "pygments_lexer": "ipython3",
   "version": "3.6.1"
  }
 },
 "nbformat": 4,
 "nbformat_minor": 2
}
