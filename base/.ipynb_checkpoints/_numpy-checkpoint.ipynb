{
 "cells": [
  {
   "cell_type": "code",
   "execution_count": 1,
   "metadata": {
    "collapsed": true
   },
   "outputs": [],
   "source": [
    "import numpy as np"
   ]
  },
  {
   "cell_type": "code",
   "execution_count": 16,
   "metadata": {},
   "outputs": [
    {
     "name": "stdout",
     "output_type": "stream",
     "text": [
      "[[ 2.67909725  3.04584471  0.6835294 ]\n",
      " [ 3.04584471  6.6438718   0.17508233]\n",
      " [ 0.6835294   0.17508233  5.36259733]]\n",
      "[[[ 0  1  2  3]\n",
      "  [ 4  5  6  7]]\n",
      "\n",
      " [[ 8  9 10 11]\n",
      "  [12 13 14 15]]]\n",
      "[[[ 0  1  2  3]\n",
      "  [ 8  9 10 11]]\n",
      "\n",
      " [[ 4  5  6  7]\n",
      "  [12 13 14 15]]]\n",
      "[[[ 0  4]\n",
      "  [ 1  5]\n",
      "  [ 2  6]\n",
      "  [ 3  7]]\n",
      "\n",
      " [[ 8 12]\n",
      "  [ 9 13]\n",
      "  [10 14]\n",
      "  [11 15]]]\n",
      "6\n"
     ]
    }
   ],
   "source": [
    "# 点积\n",
    "# 标准正态分布\n",
    "arr = np.random.randn(6, 3)\n",
    "# 转置点积\n",
    "'''\n",
    "行 * 列 \n",
    "A = x * y\n",
    "B = m * n\n",
    "A * B = (x * y) * (m * n)\n",
    "要求 y == m\n",
    "'''\n",
    "print(np.dot(arr.T, arr))\n",
    "\n",
    "# 高维矩阵转换\n",
    "arr = [0, 1, 2, 3]\n",
    "# 根据下标重新转换\n",
    "# reshape -> 参数 2, 3, 0, 1\n",
    "'''\n",
    "arr[x][y][z][t] = arr[z][t][y][x]\n",
    "'''\n",
    "demo = np.arange(16).reshape((2, 2, 4))\n",
    "'''\n",
    "详细解释：\n",
    "arr数组的内容为\n",
    "- a[0][0] = [0, 1, 2, 3]\n",
    "- a[0][1] = [4, 5, 6, 7]\n",
    "- a[1][0] = [8, 9, 10, 11]\n",
    "- a[1][1] = [12, 13, 14, 15]\n",
    "transpose的参数为坐标，正常顺序为(0, 1, 2, ... , n - 1)，\n",
    "现在传入的为(1, 0, 2)代表a[x][y][z] = a[y][x][z]，第0个和第1个坐标互换。\n",
    "- a'[0][0] = a[0][0] = [0, 1, 2, 3]\n",
    "- a'[0][1] = a[1][0] = [8, 9, 10, 11]\n",
    "- a'[1][0] = a[0][1] = [4, 5, 6, 7]\n",
    "- a'[1][1] = a[1][1] = [12, 13, 14, 15]\n",
    "'''\n",
    "print(demo)\n",
    "print(demo.transpose((1, 0, 2)))\n",
    "# swapaxes(1, 2)\n",
    "# [x][y][z][t] = [x][z][y][t]\n",
    "print(demo.swapaxes(1, 2))  # 直接交换第1和第2个坐标\n",
    "\n",
    "# where\n",
    "a = 2\n",
    "# a < 3 == True => 6 ! 1\n",
    "print(np.where(a < 3, 6, 1))"
   ]
  },
  {
   "cell_type": "code",
   "execution_count": null,
   "metadata": {
    "collapsed": true
   },
   "outputs": [],
   "source": []
  }
 ],
 "metadata": {
  "kernelspec": {
   "display_name": "Python 3",
   "language": "python",
   "name": "python3"
  },
  "language_info": {
   "codemirror_mode": {
    "name": "ipython",
    "version": 3
   },
   "file_extension": ".py",
   "mimetype": "text/x-python",
   "name": "python",
   "nbconvert_exporter": "python",
   "pygments_lexer": "ipython3",
   "version": "3.6.1"
  }
 },
 "nbformat": 4,
 "nbformat_minor": 2
}
