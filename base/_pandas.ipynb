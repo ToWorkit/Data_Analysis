{
 "cells": [
  {
   "cell_type": "code",
   "execution_count": 1,
   "metadata": {
    "collapsed": true
   },
   "outputs": [],
   "source": [
    "from pandas import Series"
   ]
  },
  {
   "cell_type": "code",
   "execution_count": 4,
   "metadata": {},
   "outputs": [
    {
     "name": "stdout",
     "output_type": "stream",
     "text": [
      "0    4\n",
      "1    7\n",
      "2   -5\n",
      "3    3\n",
      "dtype: int64\n",
      "2\n"
     ]
    }
   ],
   "source": [
    "# 用数组生成Series\n",
    "obj = Series([4, 7, -5, 3])\n",
    "# 可以指定索引\n",
    "obj_1 = Series([1, 2], index = ['a', 'b'])\n",
    "print(obj)\n",
    "print(obj_1['b'])\n",
    "# print(obj.values)\n",
    "# print(obj.index)"
   ]
  },
  {
   "cell_type": "code",
   "execution_count": 6,
   "metadata": {},
   "outputs": [
    {
     "name": "stdout",
     "output_type": "stream",
     "text": [
      "a    123\n",
      "b    456\n",
      "dtype: int64\n",
      "abc      NaN\n",
      "a      123.0\n",
      "b      456.0\n",
      "dtype: float64\n"
     ]
    }
   ],
   "source": [
    "# 使用字典生成Series\n",
    "sdata = {\n",
    "    'a': 123,\n",
    "    'b': 456,\n",
    "}\n",
    "obj = Series(sdata)\n",
    "print(obj)\n",
    "# 指定额外index，不匹配部分指定缺失值为NaN\n",
    "states = ['abc', 'a', 'b']\n",
    "obj_1 = Series(sdata, index = states)\n",
    "print(obj_1)"
   ]
  },
  {
   "cell_type": "code",
   "execution_count": null,
   "metadata": {
    "collapsed": true
   },
   "outputs": [],
   "source": []
  }
 ],
 "metadata": {
  "kernelspec": {
   "display_name": "Python 3",
   "language": "python",
   "name": "python3"
  },
  "language_info": {
   "codemirror_mode": {
    "name": "ipython",
    "version": 3
   },
   "file_extension": ".py",
   "mimetype": "text/x-python",
   "name": "python",
   "nbconvert_exporter": "python",
   "pygments_lexer": "ipython3",
   "version": "3.6.1"
  }
 },
 "nbformat": 4,
 "nbformat_minor": 2
}
